{
 "cells": [
  {
   "cell_type": "markdown",
   "metadata": {
    "toc": true
   },
   "source": [
    "<h1>Table of Contents<span class=\"tocSkip\"></span></h1>\n",
    "<div class=\"toc\"><ul class=\"toc-item\"><li><span><a href=\"#Introduction\" data-toc-modified-id=\"Introduction-1\"><span class=\"toc-item-num\">1&nbsp;&nbsp;</span>Introduction</a></span></li><li><span><a href=\"#Parametric-VS-Non-parametric-methods\" data-toc-modified-id=\"Parametric-VS-Non-parametric-methods-2\"><span class=\"toc-item-num\">2&nbsp;&nbsp;</span>Parametric VS Non parametric methods</a></span><ul class=\"toc-item\"><li><span><a href=\"#Parametric-methods\" data-toc-modified-id=\"Parametric-methods-2.1\"><span class=\"toc-item-num\">2.1&nbsp;&nbsp;</span>Parametric methods</a></span></li><li><span><a href=\"#Non-parametric-methods\" data-toc-modified-id=\"Non-parametric-methods-2.2\"><span class=\"toc-item-num\">2.2&nbsp;&nbsp;</span>Non-parametric methods</a></span><ul class=\"toc-item\"><li><span><a href=\"#Machine-Learning-methods\" data-toc-modified-id=\"Machine-Learning-methods-2.2.1\"><span class=\"toc-item-num\">2.2.1&nbsp;&nbsp;</span>Machine Learning methods</a></span></li><li><span><a href=\"#Statistical-methods\" data-toc-modified-id=\"Statistical-methods-2.2.2\"><span class=\"toc-item-num\">2.2.2&nbsp;&nbsp;</span>Statistical methods</a></span></li></ul></li></ul></li><li><span><a href=\"#Generalized-Additive-Models-(GAM)\" data-toc-modified-id=\"Generalized-Additive-Models-(GAM)-3\"><span class=\"toc-item-num\">3&nbsp;&nbsp;</span>Generalized Additive Models (GAM)</a></span><ul class=\"toc-item\"><li><span><a href=\"#Univariate-smooth-function-using-spline-regression\" data-toc-modified-id=\"Univariate-smooth-function-using-spline-regression-3.1\"><span class=\"toc-item-num\">3.1&nbsp;&nbsp;</span>Univariate smooth function using spline regression</a></span><ul class=\"toc-item\"><li><span><a href=\"#An-example-with-a-polynomial-basis-of-order-3-(example-from-Ahmada-&amp;-Flachaire-2008)\" data-toc-modified-id=\"An-example-with-a-polynomial-basis-of-order-3-(example-from-Ahmada-&amp;-Flachaire-2008)-3.1.1\"><span class=\"toc-item-num\">3.1.1&nbsp;&nbsp;</span>An example with a polynomial basis of order 3 (example from Ahmada &amp; Flachaire 2008)</a></span></li><li><span><a href=\"#Penalized-splines\" data-toc-modified-id=\"Penalized-splines-3.1.2\"><span class=\"toc-item-num\">3.1.2&nbsp;&nbsp;</span>Penalized splines</a></span></li><li><span><a href=\"#An-application-with-the-Phillips-curve\" data-toc-modified-id=\"An-application-with-the-Phillips-curve-3.1.3\"><span class=\"toc-item-num\">3.1.3&nbsp;&nbsp;</span>An application with the Phillips curve</a></span></li></ul></li><li><span><a href=\"#The-multivariate-case\" data-toc-modified-id=\"The-multivariate-case-3.2\"><span class=\"toc-item-num\">3.2&nbsp;&nbsp;</span>The multivariate case</a></span><ul class=\"toc-item\"><li><span><a href=\"#Estimating-Additive-Models\" data-toc-modified-id=\"Estimating-Additive-Models-3.2.1\"><span class=\"toc-item-num\">3.2.1&nbsp;&nbsp;</span>Estimating Additive Models</a></span></li><li><span><a href=\"#Estimating-Generalized-Additive-Models-(GAM)\" data-toc-modified-id=\"Estimating-Generalized-Additive-Models-(GAM)-3.2.2\"><span class=\"toc-item-num\">3.2.2&nbsp;&nbsp;</span>Estimating Generalized Additive Models (GAM)</a></span></li><li><span><a href=\"#A-Semi-parametric-GAM-application\" data-toc-modified-id=\"A-Semi-parametric-GAM-application-3.2.3\"><span class=\"toc-item-num\">3.2.3&nbsp;&nbsp;</span>A Semi-parametric GAM application</a></span></li></ul></li></ul></li></ul></div>"
   ]
  },
  {
   "cell_type": "markdown",
   "metadata": {},
   "source": [
    "# Introduction"
   ]
  },
  {
   "cell_type": "markdown",
   "metadata": {},
   "source": [
    "The general goal of statistical modelling is to fit the relationship between a target variable $y$ and a set of $k$ explanative variables $X$ such that:\n",
    "\n",
    "$$\n",
    "y = f(X) + \\epsilon,\n",
    "$$\n",
    "\n",
    "where $f$ is a $k$ dimensional function capturing the relationship between $y$ and $X$; and $\\epsilon$ a random error term following an exponential family distribution.\n",
    "\n",
    "Finding the relationship between $y$ and $X$ implies estimating $f$. \n"
   ]
  },
  {
   "cell_type": "markdown",
   "metadata": {},
   "source": [
    "# Parametric VS Non parametric methods\n",
    "\n",
    "## Parametric methods\n",
    "\n",
    "Parametric methods are characterized by assuming a structural shape on $f$. That is for instance a linearity assumption:\n",
    "\t\n",
    "\\begin{equation}\\label{eq:par}\n",
    "f(X)= \\beta_0+ \\beta_1 x_1 +...+ \\beta_k x_k= \\beta_0+  {\\displaystyle \\sum_{p=1}^{k}} \\beta_p  x_p\n",
    "\\end{equation}\n",
    "\n",
    "\n",
    "- Estimating this model simply amounts to estimating the k+1 parameters. \n",
    "- This could be done using Ordinary Least Squares (OLS) method for instance. \n",
    "- Advantage: relatively simple as it transforms the problem of estimating an unknown function into estimating a set of parameters, \n",
    "- Disavantages: comes with the strong assumption of linearity which could lead to fallacious approximation of $f$. \n",
    "\t\n",
    "## Non-parametric methods\n",
    "\n",
    "- Non-parametric methods do not make any explicit assumption on the shape of $f$. \n",
    "\n",
    "- Advantage : This gives flexibility in order to find the best $f$ fitting the relationship between $y$ and $x$. \n",
    "\n",
    "- Disadvantage : This greater flexibility comes with a greater complexity of $f$\n",
    "\n",
    "- There are reams of non-parametric methods. But we can distinguish between *Machine Learning methods* and pure *Statistical methods*\n",
    "\n",
    "### Machine Learning methods\n",
    "\n",
    "- Trees based methods (Decision trees, Bagging, Random Forest, Boosting), Support Vector Machines (SVM), Neural Networks etc...\n",
    "- Advantages: \n",
    "    - have the ability to find very complex functions accounting for non-linearities and interactions\n",
    "    - very good at predictions\n",
    "    - do not suffer from the [curse of dimensionality](https://en.wikipedia.org/wiki/Curse_of_dimensionality)\n",
    "- Disadvantage: are seen as black boxes as $f$ is not directly accessible \n",
    "\n",
    "\n",
    "### Statistical methods\n",
    "\n",
    "- Statistical methods for non-parametric methods are generally kernel based methods (local kernel based polynomial estimation):\n",
    "- $f$ is estimated using local approximations : can be estimated using Weighted least squares where weights are kernel based.\n",
    "- Advantage: very simple and intuitive \n",
    "- Disadvantage: there are interpolating methods\n",
    "- Then the number observations $n$ needed to make a reliable estimation of $f$ increases exponentially with the number of variable $k$.\n",
    "- Called *the curse of dimensionality* \n",
    "\n",
    "\n",
    "# Generalized Additive Models (GAM) \n",
    "\n",
    "A solution to avoid the curse of dimensionality when using statistical methods is reducing $f$'s dimensionality using an additive assumption. For instance, if $k=3$ and we know that the 3 variables are very likely independent, then we can assume: \n",
    "$$\n",
    "f(x) = f(x_1, x_2, x_3) = f_1(x_1) + f_2(x_2) + f_3(x_3).\n",
    "$$\n",
    "\n",
    "If $x_2$ and $x_3$ and linked, we can rewrite the decomposition as follows:\n",
    "$$\n",
    "f(x) = f(x_1, x_2, x_3) = f_1(x_1) + f_{23}(x_2, x_3).\n",
    "$$\n",
    "\n",
    "If $x_1$ is assumed to be linearly linked with $y$, then: $f_1(x_1) = \\beta_1 x_1$ where $\\beta_1$ is a scalar parameter. \n",
    "\n",
    "- Originally invented by Trevor Hastie and Robert Tibshirani in 1986.\n",
    "- Generalized Additive Models (GAM) are Generalized Linear Model made of sum of smooth functions and eventually a set of linear predictors. \n",
    "\n",
    "\n",
    "## Univariate smooth function using spline regression\n",
    "\n",
    "For simplicity reasons, let us consider a function $f$ with only one covariate ($k=1$).\n",
    "\n",
    "A spline regression can be seen as a piecewise non-linear regression.\n",
    "\n",
    "Let us first define a piecewise polynomial regression of order 2, following Ahmada and Flachaire (2008):\n",
    "\n",
    "$$\n",
    "f(x) = \\beta_0 + \\beta_1 x + \\beta_2 x^2 + \\beta_3 (x-\\kappa)^2_+ ,\n",
    "$$\n",
    "\n",
    "where $(x-\\kappa)_+ = x-\\kappa$  if $(x-\\kappa)>0$ and $(x-\\kappa)_+ = 0$ otherwise. $\\kappa$ belongs to $x$ domain: it is called *knot* and is a hyperparameter. \n",
    "- In this example, only one knot is used, but the number of knots is evenly a hyperparameter to choose. \n",
    "\n",
    "- Geometrically this means projecting $x$ in the following basis: $b(x) = [1, x, x^2, (x-\\kappa)^2_+]$, where $\\beta_0, \\beta_1, \\beta_2$, and $\\beta_3$ are the coordinates of $y$ in the basis. \n",
    "\n",
    "- $f$ can then be representated with a *basis* defining the function space from which $f$ is supposed to be an element. A $basis$ is simply a set of functions:\n",
    "$b(x) = [b_1(x), b_2(x), \\dots, b_r(x)]$ where $r$ is the basis dimension. \n",
    "\n",
    "When $f$ is projected over $b(x)$:\n",
    "$$\n",
    "f(x) = \\displaystyle \\sum_{j=1}^{r} b_j(x) \\beta_j,\n",
    "$$\n",
    "where $\\beta_j$ are unknown prameters.\n",
    "\n",
    "\n",
    "- The polynomial basis of order $p$, with $q$ knots is defined as follows: $b(x) = [1, x, x^2, \\dots, x^p,  (x-\\kappa_1)^p_+, \\dots, (x-\\kappa_q)^p_+]$. The dimension of $b(x)$ is then $r=1+p+q$.\n",
    "\n",
    "$$\n",
    "f(x) = \\beta_0 + \\beta_1 x + \\dots + \\beta_p x^p + \\displaystyle \\sum_{j=1}^{q} \\beta_{p+j} (x-\\kappa_j)^p_+.\n",
    "$$\n",
    "\n",
    "- *Knots ensure that the piecewise function is continuous and differentiable to order p-1.*\n",
    "\n",
    "- Spline regressions can be obtained using the Ordinary Least Squares (OLS). \n",
    " \n",
    " \n",
    "### An example with a polynomial basis of order 3 (example from Ahmada & Flachaire 2008)\n",
    "\n",
    "We assumed a spline regression of order 3 gives the following results:\n",
    "$$\n",
    "\\hat{f}(x) = 2 + x - 2x^2 + x^3 + (x-0.4)^3_+ - (x-0.8)^3_+.\n",
    "$$\n",
    "\n",
    "We can rewrite $\\hat{f}$ as follows:\n",
    "\n",
    "$$\n",
    "\\hat{f}(x) = \\left\\{ \n",
    "    \\begin{array}{ll}\n",
    "    2 + x -2x^2 + x^3 & \\text{if } x<4 \\\\\n",
    "    2 + x -2x^2 + x^3 + (x-0.4)^3 & \\text{if } 0.4 \\leq x < 0.8 \\\\\n",
    "    2 + x -2x^2 + x^3 + (x-0.4)^3 - (x-0.8)^3 & \\text{if } x \\geq 0.8\n",
    "    \\end{array}\n",
    "\\right.\n",
    "$$"
   ]
  },
  {
   "cell_type": "code",
   "execution_count": 178,
   "metadata": {},
   "outputs": [
    {
     "data": {
      "image/png": "[encoded data removed]",
      "text/plain": [
       "plot without title"
      ]
     },
     "metadata": {},
     "output_type": "display_data"
    }
   ],
   "source": [
    "x = seq(0,1,length.out = 100)\n",
    "f = function(x) {2 + x - 2*x^2 + x^3 + (x-0.4)^3 * ((x-0.4)>0) - (x-0.8)^3 * ((x-0.8)>0)}\n",
    "plot(x,f(x), type=\"l\")\n",
    "points(0.4, f(0.4))\n",
    "points(0.8, f(0.8))"
   ]
  },
  {
   "cell_type": "markdown",
   "metadata": {},
   "source": [
    "### Penalized splines\n",
    "\n",
    "- Estimation using spline regressions is very sentitive to the choices of the number knots and their positions\n",
    "- More kots implies a smoother function: so too much knots would lead to overfitting and not enougth knots would lead to underfitting the data\n",
    "- The choice of knots position directly affects the shape of the estimated function\n",
    "- Several methods emerge in the litterature to adress this issue: often based on greedy search algorithms, they are very costly computationaly\n",
    "- So, another method has been extensively use: penelized regression\n",
    "- The criterion to be minimized is:\n",
    "$$\n",
    "\\displaystyle \\sum_{i=1}^{n} [y_i - f(x_i)]^2 + \\lambda \\int_x [f''(x)]^2 dx = \\sum_{i=1}^{n} [y_i - f(x_i)]^2 + \\lambda \\beta^T S \\beta,\n",
    "$$\n",
    "where $f''$ is the second order derivative of $f$, $\\lambda$ the penelization term, $S$ a positive semi-definite matrix which structure can be defined using some predefined constraints.\n",
    "- Using matrix notations where $X = [b_1(x,\\kappa), b_2(x,\\kappa), \\dots, b_r(x,\\kappa)]$:\n",
    "   $f(x) = \\displaystyle \\sum_{j=1}^{r} b_j(x, \\kappa_j) \\beta_j = X\\beta$\n",
    "   \n",
    "- So : $\\hat{\\beta} = (X^TX + \\lambda S)^{-1}y$\n",
    "\n",
    "- This is very similar to a Ridge regression\n",
    "- $\\lambda$ can be choosen using cross-validation \n",
    "\n",
    "### An application with the Phillips curve\n",
    "\n",
    "We use here data from the Federal Bank of Saint-Louis about unemployment and inflation rates from January 1948 to December 1969.\n",
    "\n",
    "$$\n",
    "y = f(x) + \\epsilon,\n",
    "$$\n",
    "with $y$ the inflation rate and $x$ the unemployment rate."
   ]
  },
  {
   "cell_type": "code",
   "execution_count": 188,
   "metadata": {},
   "outputs": [
    {
     "data": {
      "text/html": [
       "<table>\n",
       "<thead><tr><th scope=col>DATE</th><th scope=col>UNRATE</th><th scope=col>CPIAUCSL_PC1</th></tr></thead>\n",
       "<tbody>\n",
       "\t<tr><td>1948-01-01</td><td>3.4       </td><td>10.24209  </td></tr>\n",
       "\t<tr><td>1948-02-01</td><td>3.8       </td><td> 9.48196  </td></tr>\n",
       "\t<tr><td>1948-03-01</td><td>4.0       </td><td> 6.81818  </td></tr>\n",
       "\t<tr><td>1948-04-01</td><td>3.9       </td><td> 8.27273  </td></tr>\n",
       "\t<tr><td>1948-05-01</td><td>3.5       </td><td> 9.38497  </td></tr>\n",
       "\t<tr><td>1948-06-01</td><td>3.6       </td><td> 9.37500  </td></tr>\n",
       "</tbody>\n",
       "</table>\n"
      ],
      "text/latex": [
       "\\begin{tabular}{r|lll}\n",
       " DATE & UNRATE & CPIAUCSL\\_PC1\\\\\n",
       "\\hline\n",
       "\t 1948-01-01 & 3.4        & 10.24209  \\\\\n",
       "\t 1948-02-01 & 3.8        &  9.48196  \\\\\n",
       "\t 1948-03-01 & 4.0        &  6.81818  \\\\\n",
       "\t 1948-04-01 & 3.9        &  8.27273  \\\\\n",
       "\t 1948-05-01 & 3.5        &  9.38497  \\\\\n",
       "\t 1948-06-01 & 3.6        &  9.37500  \\\\\n",
       "\\end{tabular}\n"
      ],
      "text/markdown": [
       "\n",
       "| DATE | UNRATE | CPIAUCSL_PC1 |\n",
       "|---|---|---|\n",
       "| 1948-01-01 | 3.4        | 10.24209   |\n",
       "| 1948-02-01 | 3.8        |  9.48196   |\n",
       "| 1948-03-01 | 4.0        |  6.81818   |\n",
       "| 1948-04-01 | 3.9        |  8.27273   |\n",
       "| 1948-05-01 | 3.5        |  9.38497   |\n",
       "| 1948-06-01 | 3.6        |  9.37500   |\n",
       "\n"
      ],
      "text/plain": [
       "  DATE       UNRATE CPIAUCSL_PC1\n",
       "1 1948-01-01 3.4    10.24209    \n",
       "2 1948-02-01 3.8     9.48196    \n",
       "3 1948-03-01 4.0     6.81818    \n",
       "4 1948-04-01 3.9     8.27273    \n",
       "5 1948-05-01 3.5     9.38497    \n",
       "6 1948-06-01 3.6     9.37500    "
      ]
     },
     "metadata": {},
     "output_type": "display_data"
    }
   ],
   "source": [
    "df = read.csv(\"fredgraph.csv\")[1:264,]\n",
    "head(df)"
   ]
  },
  {
   "cell_type": "code",
   "execution_count": 189,
   "metadata": {},
   "outputs": [
    {
     "data": {
      "text/html": [
       "<table>\n",
       "<thead><tr><th></th><th scope=col>DATE</th><th scope=col>UNRATE</th><th scope=col>CPIAUCSL_PC1</th></tr></thead>\n",
       "<tbody>\n",
       "\t<tr><th scope=row>259</th><td>1969-07-01</td><td>3.5       </td><td>5.44413   </td></tr>\n",
       "\t<tr><th scope=row>260</th><td>1969-08-01</td><td>3.5       </td><td>5.42857   </td></tr>\n",
       "\t<tr><th scope=row>261</th><td>1969-09-01</td><td>3.7       </td><td>5.69801   </td></tr>\n",
       "\t<tr><th scope=row>262</th><td>1969-10-01</td><td>3.7       </td><td>5.66572   </td></tr>\n",
       "\t<tr><th scope=row>263</th><td>1969-11-01</td><td>3.5       </td><td>5.93220   </td></tr>\n",
       "\t<tr><th scope=row>264</th><td>1969-12-01</td><td>3.5       </td><td>5.89888   </td></tr>\n",
       "</tbody>\n",
       "</table>\n"
      ],
      "text/latex": [
       "\\begin{tabular}{r|lll}\n",
       "  & DATE & UNRATE & CPIAUCSL\\_PC1\\\\\n",
       "\\hline\n",
       "\t259 & 1969-07-01 & 3.5        & 5.44413   \\\\\n",
       "\t260 & 1969-08-01 & 3.5        & 5.42857   \\\\\n",
       "\t261 & 1969-09-01 & 3.7        & 5.69801   \\\\\n",
       "\t262 & 1969-10-01 & 3.7        & 5.66572   \\\\\n",
       "\t263 & 1969-11-01 & 3.5        & 5.93220   \\\\\n",
       "\t264 & 1969-12-01 & 3.5        & 5.89888   \\\\\n",
       "\\end{tabular}\n"
      ],
      "text/markdown": [
       "\n",
       "| <!--/--> | DATE | UNRATE | CPIAUCSL_PC1 |\n",
       "|---|---|---|---|\n",
       "| 259 | 1969-07-01 | 3.5        | 5.44413    |\n",
       "| 260 | 1969-08-01 | 3.5        | 5.42857    |\n",
       "| 261 | 1969-09-01 | 3.7        | 5.69801    |\n",
       "| 262 | 1969-10-01 | 3.7        | 5.66572    |\n",
       "| 263 | 1969-11-01 | 3.5        | 5.93220    |\n",
       "| 264 | 1969-12-01 | 3.5        | 5.89888    |\n",
       "\n"
      ],
      "text/plain": [
       "    DATE       UNRATE CPIAUCSL_PC1\n",
       "259 1969-07-01 3.5    5.44413     \n",
       "260 1969-08-01 3.5    5.42857     \n",
       "261 1969-09-01 3.7    5.69801     \n",
       "262 1969-10-01 3.7    5.66572     \n",
       "263 1969-11-01 3.5    5.93220     \n",
       "264 1969-12-01 3.5    5.89888     "
      ]
     },
     "metadata": {},
     "output_type": "display_data"
    }
   ],
   "source": [
    "tail(df)"
   ]
  },
  {
   "cell_type": "code",
   "execution_count": 257,
   "metadata": {},
   "outputs": [
    {
     "data": {
      "image/png": "[encoded data removed]",
      "text/plain": [
       "plot without title"
      ]
     },
     "metadata": {},
     "output_type": "display_data"
    }
   ],
   "source": [
    "x = df$UNRATE\n",
    "y = df$CPIAUCSL_PC1\n",
    "\n",
    "plot(x, y, xlab=\"unemployment\",ylab=\"inflation\")"
   ]
  },
  {
   "cell_type": "markdown",
   "metadata": {},
   "source": [
    "###### Splines without penalization\n",
    "\n",
    "Let us modelize the relationship between $x$ and $y$ using a polynomial cubic basis with one knot $\\kappa=4$."
   ]
  },
  {
   "cell_type": "code",
   "execution_count": 264,
   "metadata": {},
   "outputs": [
    {
     "data": {
      "text/plain": [
       "\n",
       "Call:\n",
       "lm(formula = y ~ 1 + b2 + b3 + b4 + b5)\n",
       "\n",
       "Residuals:\n",
       "    Min      1Q  Median      3Q     Max \n",
       "-4.3829 -1.0326  0.0866  0.7046  5.5390 \n",
       "\n",
       "Coefficients:\n",
       "             Estimate Std. Error t value Pr(>|t|)    \n",
       "(Intercept) -230.4946    25.7206  -8.961  < 2e-16 ***\n",
       "b2           190.5495    20.9857   9.080  < 2e-16 ***\n",
       "b3           -50.5126     5.6121  -9.001  < 2e-16 ***\n",
       "b4             4.3693     0.4926   8.870  < 2e-16 ***\n",
       "b5            -4.6592     0.5595  -8.327 4.85e-15 ***\n",
       "---\n",
       "Signif. codes:  0 '***' 0.001 '**' 0.01 '*' 0.05 '.' 0.1 ' ' 1\n",
       "\n",
       "Residual standard error: 1.769 on 259 degrees of freedom\n",
       "Multiple R-squared:  0.4781,\tAdjusted R-squared:   0.47 \n",
       "F-statistic: 59.31 on 4 and 259 DF,  p-value: < 2.2e-16\n"
      ]
     },
     "metadata": {},
     "output_type": "display_data"
    }
   ],
   "source": [
    "b1 = 1; b2 = x; b3 = x^2; b4=x^3; b5 = ((x-4)^3)*((x - 4)>0) \n",
    "\n",
    "splines = lm(y ~ 1 + b2 + b3 + b4 + b5)\n",
    "summary(splines)"
   ]
  },
  {
   "cell_type": "code",
   "execution_count": 268,
   "metadata": {
    "scrolled": true
   },
   "outputs": [
    {
     "data": {
      "image/png": "[encoded data removed]",
      "text/plain": [
       "plot without title"
      ]
     },
     "metadata": {},
     "output_type": "display_data"
    }
   ],
   "source": [
    "plot(x, y , xlab=\"unemployment\",ylab=\"inflation\")\n",
    "lines(x,splines$fitted.values,col=\"red\", type=\"p\")"
   ]
  },
  {
   "cell_type": "markdown",
   "metadata": {},
   "source": [
    "In practice, the cubic splines are constrained to satisfy some predefined conditions. For more details take a look at this [tutorial](http://www.maths.lth.se/na/courses/FMN081/FMN081-06/lecture11.pdf). These conditions are necessary to define the matrix $S$ for penalized splines."
   ]
  },
  {
   "cell_type": "markdown",
   "metadata": {},
   "source": [
    "## The multivariate case\n",
    "\n",
    "In the multivariace case with $k$ variables:\n",
    "$$\n",
    "f(x) = f(x_1, x_2, \\dots, x_k)\n",
    "$$\n",
    "\n",
    "- As splines are an interpolating method the number of data points needed to get relieable estimation of $f$ increases exponentially with $k$: the curse of dimensionality\n",
    "- To avoid such a problem, if it is reasonable, one can make an *additive* assumption :\n",
    "    - on some variables if they are a priori independent : if $k=3$, and only $x_1$ and $x_2$ are linked then\n",
    "        $f(x) = f_{12}(x_1,x_2) + f_3(x_3)$\n",
    "        \n",
    "    - or on every variables if there are all independent: $f(x) = f_1(x_1) + f_2(x_2) + f_3(x_3)$\n",
    " \n",
    "- Using the additive assumption we arrive to *Additive Models* \n",
    "\n",
    "\n",
    "### Estimating Additive Models\n",
    "\n",
    "Let us consider the case where $k=2$ and $y = f(x) + \\epsilon = f_1(x_1) + f_2(x_2) + \\epsilon$:\n",
    "\n",
    "$$\n",
    "f_1(x_1) = \\beta_0^{(1)} + \\beta_1^{(1)} x_1 + \\dots + \\beta_p^{(1)} x_1^p + \\displaystyle \\sum_{j=1}^{q_1} \\beta_{p+j}^{(1)} (x_1-\\kappa_j^{(1)})^p_+. \\\\\n",
    "f_2(x_2) = \\beta_0^{(2)} + \\beta_1^{(2)} x_2 + \\dots + \\beta_p^{(2)} x_2^p + \\displaystyle \\sum_{j=1}^{q_2} \\beta_{p+j}^{(2)} (x_2-\\kappa_j^{(2)})^p_+,\n",
    "$$\n",
    "\n",
    "\n",
    "where $q_l$ is the number of knots of the smooth function $f_l$; $\\kappa_j^{(l)}$ is the $j^{th}$ knot position of $f_l$. \n",
    "\n",
    "To estimate $f_1$ and $f_2$ we need an identifiability constraint. Wood (2004) suggested the following constraint $\\beta_0^{(2)}=0$. \n",
    "\n",
    "So, the model can be rewritten as follows: $y = X\\beta + \\epsilon$ where\n",
    "$X = [1, x_1, x_1^2, \\dots, x_1^p,  (x_1-\\kappa_1^{(1)})^p_+, \\dots, (x_1-\\kappa_{q_1}^{(1)})^p_+, x_2, x_2^2, \\dots, x_2^p,  (x_2-\\kappa_1^{(2)})^p_+, \\dots, (x_2-\\kappa_{q_2}^{(2)})^p_+]$\n",
    "\n",
    "and $\\beta$ a vector containing all the scalar parameters.\n",
    "\n",
    "This model can be estimated using penelized least squares:\n",
    "$$ \n",
    "||y-X\\beta||^2 + \\lambda_1\\beta^T S_1 \\beta + \\lambda_2 \\beta^T S_2 \\beta,\n",
    "$$\n",
    "\n",
    "where $\\lambda_1$ and $\\lambda_2$ are respectively controlling for the degree of smoothness of $f_1$ and $f_2$; $S_1$ and $S_2$ are positive semi-definite matrices (defined according to constraints on the spline basis). \n",
    "\n",
    "\n",
    "Additve models can also be iteratively estimated. Let us consider the simple case of two independent covariates $k=2$: $ y = f_1(x_1) + f_2(x_2) + \\epsilon.$\n",
    "Using conditional expectations:\n",
    "\n",
    "$$\n",
    "E(y-f_2(x_2)|x_1) = f_1(x_1),\\\\\n",
    "E(y-f_1(x_1)|x_2) = f_2(x_2).\n",
    "$$\n",
    "\n",
    "Step 1: Initializing $\\hat{f}_1^{(0)}$ and $\\hat{f}_2^{(0)}$ with arbitrary choices \n",
    "\n",
    "Step 2: Getting $\\hat{f_1^{(i)}}$ from the regression $y - \\hat{f}_2^{(i-1)}(x_2) = f_1^{(i)}(x_1) + \\epsilon_1$ \n",
    "\n",
    "Step 3: Getting $\\hat{f_2^{(i)}}$ from the regression $y - \\hat{f}_1^{(i-1)}(x_1) = f_2^{(i)}(x_2) + \\epsilon_2$ \n",
    "\n",
    "Step 4: Repeating steps 2 and 3 until convergence.\n",
    "\n",
    "This algorithm can be generalized for $k>2$. \n",
    "\n",
    "\n",
    "##### NB: In the case we want to estimate smooth funcrions accounting for interactions such as $f_{12}(x_1,x_2)$ we can simply use the product of $x_1$ and $x_2$ as input: $f_{12}(x_1,x_2) = f_{12}(x_1 \\times x_2)$. See Wood (2004) on *tensor product smooths* for further details.\n",
    "\n",
    "\n",
    "### Estimating Generalized Additive Models (GAM)\n",
    "\n",
    "A GAM is simply an additive model possibly followed by a linear predictor: \n",
    "\n",
    "$$\n",
    "y = X_l\\beta + f(X_{nl}) + \\epsilon,\n",
    "$$\n",
    "where  $X_l$ is the matrix loaded with linear predictors and $X_nl$ the one loaded with non-linear predictors; $f(X_{nl})$ can be additively decomposed. This is a semi-parametric model.\n",
    "\n",
    "There are several ways to estimate GAMs, however there are generally iterative methods possibly using (penalized) least squares or maximum likelihood in the back end. \n",
    "\n",
    "Here we briefly explain one of these methods exposed in Ahmada and Flachaire (2008): Double Residual Estimator (DRE).\n",
    "\n",
    "##### DRE presentation \n",
    "We assume iid noises: $E(\\epsilon| X_l, X_{nl}) = 0$ and $V(\\epsilon| X_l, X_{nl}) = \\sigma_{\\epsilon}^2$.\n",
    "\n",
    "Then:\n",
    "$$\n",
    "E(y|X_{nl}) = E(X_l|X_{nl})\\beta + f(Z).\n",
    "$$\n",
    "\n",
    "So:\n",
    "$$\n",
    "y - E(y|X_{nl}) = [X - E(X_l|X_{nl})]\\beta + \\epsilon. \\text{    (a)}\n",
    "$$\n",
    "\n",
    "Robinson (1988) suggested to firstly estimates the conditional expectations $E(y|X_{nl}) $ and $E(X_l|X_{nl})$ by non-parametric methods followed by an OLS estimation to get $\\beta$.\n",
    "\n",
    "$$\n",
    "y = f_y(Z) + \\epsilon_y \\\\\n",
    "X_l = f_{X_l}(Z) + \\epsilon_{X_l},\n",
    "$$\n",
    "where $f_y(Z) = E(y|X_{nl})$ and $ f_{X_l}(Z) = E(X_l|X_{nl})$.\n",
    "\n",
    "Then equation (a) can be estimated as : $ \\epsilon_y = \\epsilon_{X_l}\\beta + \\epsilon.$\n",
    "\n",
    "Hence: $\\hat{\\beta} = (\\epsilon_{X_l}^T \\epsilon_{X_l})^{-1}\\epsilon_{X_l} \\epsilon_y \\sim N(\\beta, \\dfrac{\\sigma_{\\epsilon}^2}{n\\sigma_{\\epsilon_{X_l}}})$\n",
    "\n",
    "Once $\\hat{\\beta}$ is known, we can estimate $f(X_{nl})$ with the following model:\n",
    "$$\n",
    "y - X_l \\hat{\\beta} = f(X_{nl}) + \\epsilon\n",
    "$$\n",
    "\n",
    "\n",
    "The [Mixed GAM Computation Vehicle with Automatic Smoothness Estimation (MGCV)](https://www.rdocumentation.org/packages/mgcv/versions/1.8-33) is the most known package in R for GAM estimation.\n",
    "\n",
    "### A Semi-parametric GAM application \n",
    "\n",
    "Let us use the [Boston](https://www.cs.toronto.edu/~delve/data/boston/bostonDetail.html) dataset to estimate a semi-parametric GAM. "
   ]
  },
  {
   "cell_type": "code",
   "execution_count": 273,
   "metadata": {},
   "outputs": [
    {
     "data": {
      "text/html": [
       "<table>\n",
       "<thead><tr><th scope=col>crim</th><th scope=col>zn</th><th scope=col>indus</th><th scope=col>chas</th><th scope=col>nox</th><th scope=col>rm</th><th scope=col>age</th><th scope=col>dis</th><th scope=col>rad</th><th scope=col>tax</th><th scope=col>ptratio</th><th scope=col>black</th><th scope=col>lstat</th><th scope=col>medv</th></tr></thead>\n",
       "<tbody>\n",
       "\t<tr><td>0.00632</td><td>18     </td><td>2.31   </td><td>0      </td><td>0.538  </td><td>6.575  </td><td>65.2   </td><td>4.0900 </td><td>1      </td><td>296    </td><td>15.3   </td><td>396.90 </td><td>4.98   </td><td>24.0   </td></tr>\n",
       "\t<tr><td>0.02731</td><td> 0     </td><td>7.07   </td><td>0      </td><td>0.469  </td><td>6.421  </td><td>78.9   </td><td>4.9671 </td><td>2      </td><td>242    </td><td>17.8   </td><td>396.90 </td><td>9.14   </td><td>21.6   </td></tr>\n",
       "\t<tr><td>0.02729</td><td> 0     </td><td>7.07   </td><td>0      </td><td>0.469  </td><td>7.185  </td><td>61.1   </td><td>4.9671 </td><td>2      </td><td>242    </td><td>17.8   </td><td>392.83 </td><td>4.03   </td><td>34.7   </td></tr>\n",
       "\t<tr><td>0.03237</td><td> 0     </td><td>2.18   </td><td>0      </td><td>0.458  </td><td>6.998  </td><td>45.8   </td><td>6.0622 </td><td>3      </td><td>222    </td><td>18.7   </td><td>394.63 </td><td>2.94   </td><td>33.4   </td></tr>\n",
       "\t<tr><td>0.06905</td><td> 0     </td><td>2.18   </td><td>0      </td><td>0.458  </td><td>7.147  </td><td>54.2   </td><td>6.0622 </td><td>3      </td><td>222    </td><td>18.7   </td><td>396.90 </td><td>5.33   </td><td>36.2   </td></tr>\n",
       "\t<tr><td>0.02985</td><td> 0     </td><td>2.18   </td><td>0      </td><td>0.458  </td><td>6.430  </td><td>58.7   </td><td>6.0622 </td><td>3      </td><td>222    </td><td>18.7   </td><td>394.12 </td><td>5.21   </td><td>28.7   </td></tr>\n",
       "</tbody>\n",
       "</table>\n"
      ],
      "text/latex": [
       "\\begin{tabular}{r|llllllllllllll}\n",
       " crim & zn & indus & chas & nox & rm & age & dis & rad & tax & ptratio & black & lstat & medv\\\\\n",
       "\\hline\n",
       "\t 0.00632 & 18      & 2.31    & 0       & 0.538   & 6.575   & 65.2    & 4.0900  & 1       & 296     & 15.3    & 396.90  & 4.98    & 24.0   \\\\\n",
       "\t 0.02731 &  0      & 7.07    & 0       & 0.469   & 6.421   & 78.9    & 4.9671  & 2       & 242     & 17.8    & 396.90  & 9.14    & 21.6   \\\\\n",
       "\t 0.02729 &  0      & 7.07    & 0       & 0.469   & 7.185   & 61.1    & 4.9671  & 2       & 242     & 17.8    & 392.83  & 4.03    & 34.7   \\\\\n",
       "\t 0.03237 &  0      & 2.18    & 0       & 0.458   & 6.998   & 45.8    & 6.0622  & 3       & 222     & 18.7    & 394.63  & 2.94    & 33.4   \\\\\n",
       "\t 0.06905 &  0      & 2.18    & 0       & 0.458   & 7.147   & 54.2    & 6.0622  & 3       & 222     & 18.7    & 396.90  & 5.33    & 36.2   \\\\\n",
       "\t 0.02985 &  0      & 2.18    & 0       & 0.458   & 6.430   & 58.7    & 6.0622  & 3       & 222     & 18.7    & 394.12  & 5.21    & 28.7   \\\\\n",
       "\\end{tabular}\n"
      ],
      "text/markdown": [
       "\n",
       "| crim | zn | indus | chas | nox | rm | age | dis | rad | tax | ptratio | black | lstat | medv |\n",
       "|---|---|---|---|---|---|---|---|---|---|---|---|---|---|\n",
       "| 0.00632 | 18      | 2.31    | 0       | 0.538   | 6.575   | 65.2    | 4.0900  | 1       | 296     | 15.3    | 396.90  | 4.98    | 24.0    |\n",
       "| 0.02731 |  0      | 7.07    | 0       | 0.469   | 6.421   | 78.9    | 4.9671  | 2       | 242     | 17.8    | 396.90  | 9.14    | 21.6    |\n",
       "| 0.02729 |  0      | 7.07    | 0       | 0.469   | 7.185   | 61.1    | 4.9671  | 2       | 242     | 17.8    | 392.83  | 4.03    | 34.7    |\n",
       "| 0.03237 |  0      | 2.18    | 0       | 0.458   | 6.998   | 45.8    | 6.0622  | 3       | 222     | 18.7    | 394.63  | 2.94    | 33.4    |\n",
       "| 0.06905 |  0      | 2.18    | 0       | 0.458   | 7.147   | 54.2    | 6.0622  | 3       | 222     | 18.7    | 396.90  | 5.33    | 36.2    |\n",
       "| 0.02985 |  0      | 2.18    | 0       | 0.458   | 6.430   | 58.7    | 6.0622  | 3       | 222     | 18.7    | 394.12  | 5.21    | 28.7    |\n",
       "\n"
      ],
      "text/plain": [
       "  crim    zn indus chas nox   rm    age  dis    rad tax ptratio black  lstat\n",
       "1 0.00632 18 2.31  0    0.538 6.575 65.2 4.0900 1   296 15.3    396.90 4.98 \n",
       "2 0.02731  0 7.07  0    0.469 6.421 78.9 4.9671 2   242 17.8    396.90 9.14 \n",
       "3 0.02729  0 7.07  0    0.469 7.185 61.1 4.9671 2   242 17.8    392.83 4.03 \n",
       "4 0.03237  0 2.18  0    0.458 6.998 45.8 6.0622 3   222 18.7    394.63 2.94 \n",
       "5 0.06905  0 2.18  0    0.458 7.147 54.2 6.0622 3   222 18.7    396.90 5.33 \n",
       "6 0.02985  0 2.18  0    0.458 6.430 58.7 6.0622 3   222 18.7    394.12 5.21 \n",
       "  medv\n",
       "1 24.0\n",
       "2 21.6\n",
       "3 34.7\n",
       "4 33.4\n",
       "5 36.2\n",
       "6 28.7"
      ]
     },
     "metadata": {},
     "output_type": "display_data"
    }
   ],
   "source": [
    "library(MASS)\n",
    "\n",
    "head(Boston)"
   ]
  },
  {
   "cell_type": "markdown",
   "metadata": {},
   "source": [
    "- crim:\tper capita crime rate by town\n",
    "- zn:\tproportion of residential land zoned for lots over 25,000 sq.ft\n",
    "- indus:\tproportion of non-retail business acres per town\n",
    "- chas:\tCharles River dummy variable (= 1 if tract bounds river; 0 otherwise)\n",
    "- nox:\tnitric oxides concentration (parts per 10 million)\n",
    "- rm:\taverage number of rooms per dwelling\n",
    "- age:\tproportion of owner-occupied units built prior to 1940\n",
    "- dis:\tweighted distances to five Boston employment centres \n",
    "- rad:\tindex of accessibility to radial highways\n",
    "- tax:\tfull-value property-tax rate per USD 10,000\n",
    "- ptratio:\tpupil-teacher ratio by town\n",
    "- black:\t$1000(B - 0.63)^2$ where B is the proportion of blacks by town\n",
    "- lstat:\tpercentage of lower status of the population\n",
    "- medv:\tmedian value of owner-occupied homes in USD 1000's"
   ]
  },
  {
   "cell_type": "markdown",
   "metadata": {},
   "source": [
    "The target variable is medv. Here we are going to only use 4 regressors to predict medv: crim, rm, age and tax. We are going to assume first that:\n",
    " - crim and age respectively impact medv in a non-linear way,\n",
    " - rm and tax are tied and non-linearly impact medv.\n",
    " \n",
    "We then arrive to the following additive model:\n",
    "\n",
    "$$\n",
    "medv = f_1(crim) + f_2(age) + f_{34}(rm, tax) + \\epsilon\n",
    "$$\n",
    "\n",
    "Let us estimate this equation with the MGCV package using the $natural cubic splines$ with 5 knots for each smooth function. \n",
    "\n",
    "##### NB: Natural cubic splines are a particular cubic splines with some predefined constraints. For more details take a look at this [tutorial](http://www.maths.lth.se/na/courses/FMN081/FMN081-06/lecture11.pdf). "
   ]
  },
  {
   "cell_type": "code",
   "execution_count": 295,
   "metadata": {},
   "outputs": [
    {
     "data": {
      "text/plain": [
       "\n",
       "Family: gaussian \n",
       "Link function: identity \n",
       "\n",
       "Formula:\n",
       "medv ~ s(crim, bs = \"cr\", k = 5) + s(age, bs = \"cr\", k = 5) + \n",
       "    te(rm, tax, bs = \"cr\", k = 5)\n",
       "\n",
       "Parametric coefficients:\n",
       "            Estimate Std. Error t value Pr(>|t|)    \n",
       "(Intercept)    22.53       0.21   107.3   <2e-16 ***\n",
       "---\n",
       "Signif. codes:  0 '***' 0.001 '**' 0.01 '*' 0.05 '.' 0.1 ' ' 1\n",
       "\n",
       "Approximate significance of smooth terms:\n",
       "              edf Ref.df     F  p-value    \n",
       "s(crim)     2.898  2.995 24.26 4.50e-14 ***\n",
       "s(age)      1.000  1.000 27.76 2.04e-07 ***\n",
       "te(rm,tax) 13.435 16.045 58.62  < 2e-16 ***\n",
       "---\n",
       "Signif. codes:  0 '***' 0.001 '**' 0.01 '*' 0.05 '.' 0.1 ' ' 1\n",
       "\n",
       "R-sq.(adj) =  0.736   Deviance explained = 74.5%\n",
       "GCV = 23.143  Scale est. = 22.304    n = 506"
      ]
     },
     "metadata": {},
     "output_type": "display_data"
    }
   ],
   "source": [
    "library(mgcv)\n",
    "\n",
    "gam.model = gam(medv~ s(crim,  bs = 'cr', k=5) + s(age, bs = 'cr', k=5) + te(rm, tax, bs = 'cr', k=5), data=Boston)\n",
    "summary(gam.model)\n"
   ]
  },
  {
   "cell_type": "markdown",
   "metadata": {},
   "source": [
    "- edf: Effective degrees of freedom. In a pure OLS regression, this refers to the number of regressors. In GAMs, the edf is not trivial as smooth functions are penalized. The edf lies between 1 and $q-1$, if $q$ is the number of knots. When edf =1, then the smooth term is penalized to a simple linear relationship,\n",
    "-  Ref.df: reference degrees of freedom used in computing test statistic and the p-values. There are not useful according to Simon Wood as the null distributions are non-standard,\n",
    "- GCV: Generalized Cross Validation score, is an estimate of the Mean Square Error (MSE) using a leave-one-out cross validation estimation,\n",
    "\n",
    "- Deviance explained: Unadjusted $R^2$."
   ]
  },
  {
   "cell_type": "code",
   "execution_count": 286,
   "metadata": {
    "scrolled": false
   },
   "outputs": [
    {
     "data": {
      "image/png": "[encoded data removed]",
      "text/plain": [
       "plot without title"
      ]
     },
     "metadata": {},
     "output_type": "display_data"
    },
    {
     "data": {
      "image/png": "[encoded data removed]",
      "text/plain": [
       "plot without title"
      ]
     },
     "metadata": {},
     "output_type": "display_data"
    },
    {
     "data": {
      "image/png": "[encoded data removed]",
      "text/plain": [
       "plot without title"
      ]
     },
     "metadata": {},
     "output_type": "display_data"
    }
   ],
   "source": [
    "plot(gam.model)"
   ]
  },
  {
   "cell_type": "code",
   "execution_count": 289,
   "metadata": {},
   "outputs": [
    {
     "data": {
      "image/png": "[encoded data removed]",
      "text/plain": [
       "plot without title"
      ]
     },
     "metadata": {},
     "output_type": "display_data"
    }
   ],
   "source": [
    "vis.gam(gam.model, view=c(\"rm\",\"tax\"), theta=210,phi=40)"
   ]
  },
  {
   "cell_type": "markdown",
   "metadata": {},
   "source": [
    "As age seems to be linearly linked to medv, we can restrict the first model as follows:\n",
    "\n",
    "$$\n",
    "medv = \\beta. age + f_1(crim) + f_{23}(rm, tax) + \\epsilon\n",
    "$$\n"
   ]
  },
  {
   "cell_type": "code",
   "execution_count": 291,
   "metadata": {},
   "outputs": [
    {
     "data": {
      "text/plain": [
       "\n",
       "Family: gaussian \n",
       "Link function: identity \n",
       "\n",
       "Formula:\n",
       "medv ~ age + s(crim, bs = \"cr\") + te(rm, tax, bs = \"cr\")\n",
       "\n",
       "Parametric coefficients:\n",
       "             Estimate Std. Error t value Pr(>|t|)    \n",
       "(Intercept) 25.849058   0.697905  37.038  < 2e-16 ***\n",
       "age         -0.048360   0.009706  -4.982 8.74e-07 ***\n",
       "---\n",
       "Signif. codes:  0 '***' 0.001 '**' 0.01 '*' 0.05 '.' 0.1 ' ' 1\n",
       "\n",
       "Approximate significance of smooth terms:\n",
       "              edf Ref.df     F  p-value    \n",
       "s(crim)     3.444  3.765 18.60 1.76e-13 ***\n",
       "te(rm,tax) 13.464 16.071 58.62  < 2e-16 ***\n",
       "---\n",
       "Signif. codes:  0 '***' 0.001 '**' 0.01 '*' 0.05 '.' 0.1 ' ' 1\n",
       "\n",
       "R-sq.(adj) =  0.736   Deviance explained = 74.6%\n",
       "GCV = 23.154  Scale est. = 22.289    n = 506"
      ]
     },
     "metadata": {},
     "output_type": "display_data"
    }
   ],
   "source": [
    "gam.model = gam(medv~ age + s(crim,  bs = 'cr') + te(rm, tax, bs = 'cr'), data=Boston)\n",
    "summary(gam.model)"
   ]
  },
  {
   "cell_type": "markdown",
   "metadata": {},
   "source": [
    "# Bibliography\n",
    "\n",
    "- Wood, S. N. (2017). Generalized additive models: an introduction with R. CRC press.\n",
    "- Harrison Jr, D., & Rubinfeld, D. L. (1978). Hedonic housing prices and the demand for clean air."
   ]
  }
 ],
 "metadata": {
  "kernelspec": {
   "display_name": "R",
   "language": "R",
   "name": "ir"
  },
  "language_info": {
   "codemirror_mode": "r",
   "file_extension": ".r",
   "mimetype": "text/x-r-source",
   "name": "R",
   "pygments_lexer": "r",
   "version": "3.6.1"
  },
  "toc": {
   "base_numbering": 1,
   "nav_menu": {},
   "number_sections": true,
   "sideBar": true,
   "skip_h1_title": false,
   "title_cell": "Table of Contents",
   "title_sidebar": "Contents",
   "toc_cell": true,
   "toc_position": {},
   "toc_section_display": true,
   "toc_window_display": false
  }
 },
 "nbformat": 4,
 "nbformat_minor": 4
}
